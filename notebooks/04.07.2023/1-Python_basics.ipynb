{
 "cells": [
  {
   "cell_type": "markdown",
   "id": "8dba5e0d-95e3-4dc8-a8cb-dee3386b8a37",
   "metadata": {},
   "source": [
    "# Python Basics\n",
    "---------------------------\n",
    "\n",
    "This notebook is just a primer for python. By no means this is exhaustive."
   ]
  },
  {
   "cell_type": "markdown",
   "id": "ce5884be-78c5-47f5-968e-de238a3f9920",
   "metadata": {},
   "source": [
    "## 1) Data types"
   ]
  },
  {
   "cell_type": "code",
   "execution_count": 1,
   "id": "82050869-e2dd-42b9-b772-ec3fa1434da0",
   "metadata": {},
   "outputs": [
    {
     "data": {
      "text/plain": [
       "(int, 3, 2.0)"
      ]
     },
     "execution_count": 1,
     "metadata": {},
     "output_type": "execute_result"
    }
   ],
   "source": [
    "# example(s) with int data type\n",
    "\n",
    "a = 2\n",
    "type(a), a+1, float(a)"
   ]
  },
  {
   "cell_type": "code",
   "execution_count": 2,
   "id": "f9e64f11-7155-4f5e-a9f0-60f8157303cb",
   "metadata": {},
   "outputs": [
    {
     "data": {
      "text/plain": [
       "(float, 3.5, 2)"
      ]
     },
     "execution_count": 2,
     "metadata": {},
     "output_type": "execute_result"
    }
   ],
   "source": [
    "# example(s) with float data type\n",
    "\n",
    "b =2.5\n",
    "type(b), b+1, int(b)"
   ]
  },
  {
   "cell_type": "code",
   "execution_count": 3,
   "id": "5e0c0399-0fb9-46cb-8a14-4db861a08ac3",
   "metadata": {},
   "outputs": [
    {
     "data": {
      "text/plain": [
       "([2, 3, 4, 10, 'a', 2.0], [2, 3, 4, 2, 3, 4])"
      ]
     },
     "execution_count": 3,
     "metadata": {},
     "output_type": "execute_result"
    }
   ],
   "source": [
    "# example(s) with list data type\n",
    "\n",
    "c = [2, 3, 4]\n",
    "d = [10, 'a', 2.0]\n",
    "c+d, c*2"
   ]
  },
  {
   "cell_type": "code",
   "execution_count": 4,
   "id": "1f2c7c67-d9e8-42ea-b988-15f7d65d213e",
   "metadata": {},
   "outputs": [
    {
     "data": {
      "text/plain": [
       "([2, 3, 4, 100], 4)"
      ]
     },
     "execution_count": 4,
     "metadata": {},
     "output_type": "execute_result"
    }
   ],
   "source": [
    "c.append(100)\n",
    "c, c[2]"
   ]
  },
  {
   "cell_type": "code",
   "execution_count": 5,
   "id": "de54fa9c-48fe-47cf-950e-850d83e3ee00",
   "metadata": {},
   "outputs": [
    {
     "data": {
      "text/plain": [
       "[2, 3, 1000, 100]"
      ]
     },
     "execution_count": 5,
     "metadata": {},
     "output_type": "execute_result"
    }
   ],
   "source": [
    "c[2] = 1000\n",
    "c"
   ]
  },
  {
   "cell_type": "code",
   "execution_count": 6,
   "id": "4f86b0ae-1b7f-4c6b-998d-a21ca90fee24",
   "metadata": {},
   "outputs": [
    {
     "data": {
      "text/plain": [
       "([1, 2, 3, [1.0, 2.0, 10.0], [10, 'a', 2.0]],\n",
       " [1, 2, 3, [1.0, 2.0, 10.0], 10, 'a', 2.0])"
      ]
     },
     "execution_count": 6,
     "metadata": {},
     "output_type": "execute_result"
    }
   ],
   "source": [
    "e_1 = [1, 2, 3, [1.0, 2.0, 10.0]]\n",
    "e_2 = [1, 2, 3, [1.0, 2.0, 10.0]]\n",
    "e_1.append(d)\n",
    "e_2.extend(d)\n",
    "e_1, e_2"
   ]
  },
  {
   "cell_type": "code",
   "execution_count": 7,
   "id": "d6d580ca-0ba8-4d44-b5e6-f23a81156b23",
   "metadata": {},
   "outputs": [
    {
     "data": {
      "text/plain": [
       "(dict_keys(['Ethanol', 'Methanol', 'Water']),\n",
       " (16.8958, 3795.17, -42.232),\n",
       " dict_values([(16.8958, 3795.17, -42.232), (16.5785, 3638.27, -33.65), (16.3872, 3885.7, -42.98)]))"
      ]
     },
     "execution_count": 7,
     "metadata": {},
     "output_type": "execute_result"
    }
   ],
   "source": [
    "# example(s) with dict data type\n",
    "\n",
    "ant_coeffs = {}\n",
    "\n",
    "ant_coeffs.update({\"Ethanol\": (16.8958, 3795.17, -42.232)})\n",
    "ant_coeffs.update({\"Methanol\": (16.5785, 3638.27, -33.650)})\n",
    "ant_coeffs.update({\"Water\": (16.3872, 3885.70, -42.980)})\n",
    "\n",
    "ant_coeffs.keys(), ant_coeffs[\"Ethanol\"], ant_coeffs.values()"
   ]
  },
  {
   "cell_type": "code",
   "execution_count": 8,
   "id": "2d13a8a5-3636-40fd-a7c9-f03ffb0f2d80",
   "metadata": {},
   "outputs": [
    {
     "data": {
      "text/plain": [
       "dict_items([('Ethanol', (16.8958, 3795.17, -42.232)), ('Methanol', (16.5785, 3638.27, -33.65)), ('Water', (16.3872, 3885.7, -42.98))])"
      ]
     },
     "execution_count": 8,
     "metadata": {},
     "output_type": "execute_result"
    }
   ],
   "source": [
    "ant_coeffs.items()"
   ]
  },
  {
   "cell_type": "code",
   "execution_count": 9,
   "id": "d47f1570-95dc-4196-a3bf-13def36e8f73",
   "metadata": {},
   "outputs": [
    {
     "data": {
      "text/plain": [
       "tuple"
      ]
     },
     "execution_count": 9,
     "metadata": {},
     "output_type": "execute_result"
    }
   ],
   "source": [
    "# example(s) with tuple data type\n",
    "\n",
    "type(ant_coeffs[\"Ethanol\"])"
   ]
  },
  {
   "cell_type": "code",
   "execution_count": 10,
   "id": "c848b224-3662-4a56-ac8b-55a6e1ef18bb",
   "metadata": {},
   "outputs": [
    {
     "data": {
      "text/plain": [
       "3"
      ]
     },
     "execution_count": 10,
     "metadata": {},
     "output_type": "execute_result"
    }
   ],
   "source": [
    "a = (1, 2, 3)\n",
    "a[-1]"
   ]
  },
  {
   "cell_type": "code",
   "execution_count": 11,
   "id": "00306bb7-625b-4e42-ad06-abfbde35709a",
   "metadata": {},
   "outputs": [
    {
     "ename": "TypeError",
     "evalue": "'tuple' object does not support item assignment",
     "output_type": "error",
     "traceback": [
      "\u001b[1;31m---------------------------------------------------------------------------\u001b[0m",
      "\u001b[1;31mTypeError\u001b[0m                                 Traceback (most recent call last)",
      "Cell \u001b[1;32mIn[11], line 1\u001b[0m\n\u001b[1;32m----> 1\u001b[0m a[\u001b[38;5;241m-\u001b[39m\u001b[38;5;241m1\u001b[39m] \u001b[38;5;241m=\u001b[39m \u001b[38;5;241m5\u001b[39m\n",
      "\u001b[1;31mTypeError\u001b[0m: 'tuple' object does not support item assignment"
     ]
    }
   ],
   "source": [
    "a[-1] = 5 # tuple is immutable i.e. you can't edit the elements"
   ]
  },
  {
   "cell_type": "code",
   "execution_count": 14,
   "id": "0aec5572-f129-4820-a0a7-3eded92a5528",
   "metadata": {},
   "outputs": [
    {
     "data": {
      "text/plain": [
       "(set, set, {-1, 0, 2}, {-1, 0, 2}, {1, 2, 'a'}, {-1, 0, 1, 2, 'a'})"
      ]
     },
     "execution_count": 14,
     "metadata": {},
     "output_type": "execute_result"
    }
   ],
   "source": [
    "# example(s) with set data type\n",
    "\n",
    "a = {-1, 2, 0}\n",
    "b = set([-1, 2, 0, 2, 0])\n",
    "c = {'a', 1, 2}\n",
    "type(a), type(b), a, b, c, a.union(c)"
   ]
  },
  {
   "cell_type": "code",
   "execution_count": 15,
   "id": "33862130-59cb-400d-80ca-97f9aa735b94",
   "metadata": {},
   "outputs": [
    {
     "data": {
      "text/plain": [
       "{-1, 0, 1, 2, 'a'}"
      ]
     },
     "execution_count": 15,
     "metadata": {},
     "output_type": "execute_result"
    }
   ],
   "source": [
    "a1 = {-1, 2, 0}\n",
    "a1.update(c)\n",
    "a1"
   ]
  },
  {
   "cell_type": "markdown",
   "id": "42f9ff46-6c0b-4b3f-ba09-89b7913659c5",
   "metadata": {},
   "source": [
    "## 2) Conditional statements"
   ]
  },
  {
   "cell_type": "code",
   "execution_count": 16,
   "id": "168f0541-1178-433c-8180-b84fcc5ab7d1",
   "metadata": {},
   "outputs": [
    {
     "name": "stdout",
     "output_type": "stream",
     "text": [
      "Even\n"
     ]
    }
   ],
   "source": [
    "# example(s) with if & else\n",
    "\n",
    "a = 2\n",
    "\n",
    "if a%2 == 0:\n",
    "    print(\"Even\")\n",
    "else:\n",
    "    print(\"Odd\")"
   ]
  },
  {
   "cell_type": "code",
   "execution_count": 17,
   "id": "26978c41-7967-4dcd-8aa7-c0cd3813d5b0",
   "metadata": {},
   "outputs": [
    {
     "name": "stdout",
     "output_type": "stream",
     "text": [
      "Float\n"
     ]
    }
   ],
   "source": [
    "# example(s) with if, elif & else\n",
    "\n",
    "b = 2.5\n",
    "\n",
    "if type(b) is int:\n",
    "    print(\"Int\")\n",
    "elif type(b) is float:\n",
    "    print(\"Float\")\n",
    "elif type(b) is list:\n",
    "    print(\"List\")\n",
    "else:\n",
    "    print(\"Neither int, float and list\")"
   ]
  },
  {
   "cell_type": "markdown",
   "id": "05f497c6-fc4b-47c2-b69c-8a64a7ace558",
   "metadata": {},
   "source": [
    "## 3) Loops"
   ]
  },
  {
   "cell_type": "code",
   "execution_count": 18,
   "id": "ba40ec4f-004b-490c-8997-1bbdeaa255f7",
   "metadata": {},
   "outputs": [
    {
     "name": "stdout",
     "output_type": "stream",
     "text": [
      "-3\n",
      "-2\n",
      "-1\n",
      "0\n",
      "1\n",
      "2\n",
      "3\n",
      "4\n"
     ]
    }
   ],
   "source": [
    "# example(s) with for loop\n",
    "\n",
    "for i in range(-3, 5):\n",
    "    print(i)"
   ]
  },
  {
   "cell_type": "code",
   "execution_count": 19,
   "id": "4597462c-e554-4089-82b8-d6c06e2aadd3",
   "metadata": {},
   "outputs": [
    {
     "name": "stdout",
     "output_type": "stream",
     "text": [
      "0 -3\n",
      "1 -2\n",
      "2 -1\n",
      "3 0\n",
      "4 1\n",
      "5 2\n",
      "6 3\n",
      "7 4\n"
     ]
    }
   ],
   "source": [
    "for i, value in enumerate(range(-3, 5)):\n",
    "    print(i, value)"
   ]
  },
  {
   "cell_type": "markdown",
   "id": "3429d021-184e-49c4-8a2f-0727f42b2d12",
   "metadata": {},
   "source": [
    "## 4) Functions"
   ]
  },
  {
   "cell_type": "code",
   "execution_count": 20,
   "id": "2c8385df-af68-4cb1-a701-9b2331544fb2",
   "metadata": {},
   "outputs": [
    {
     "name": "stdout",
     "output_type": "stream",
     "text": [
      "Even\n",
      "Odd\n"
     ]
    }
   ],
   "source": [
    "# example(s) with the return statement\n",
    "\n",
    "def even_odd(num):\n",
    "    if num%2 == 0:\n",
    "        return \"Even\"\n",
    "    else:\n",
    "        return \"Odd\"\n",
    "    \n",
    "print(even_odd(2))\n",
    "print(even_odd(3))"
   ]
  }
 ],
 "metadata": {
  "kernelspec": {
   "display_name": "Python 3 (ipykernel)",
   "language": "python",
   "name": "python3"
  },
  "language_info": {
   "codemirror_mode": {
    "name": "ipython",
    "version": 3
   },
   "file_extension": ".py",
   "mimetype": "text/x-python",
   "name": "python",
   "nbconvert_exporter": "python",
   "pygments_lexer": "ipython3",
   "version": "3.10.9"
  }
 },
 "nbformat": 4,
 "nbformat_minor": 5
}
